{
 "cells": [
  {
   "cell_type": "markdown",
   "metadata": {},
   "source": [
    "# Twilio Notebook demo\r\n",
    "\r\n",
    "To get started with this worksheet you will need a free [Twilio account](https://www.twilio.com/try-twilio?utm_source=devnet&utm_medium=worksheet&utm_campaign=csharp).\r\n",
    "\r\n",
    "Next, you will need to save your account Sid and auth token, found on the home screen of the Twilio console, to your environment variables. If you are unsure of how to do this, then you can follow the steps in this handy [blog](https://www.twilio.com/blog/2017/01/how-to-set-environment-variables.html).\r\n",
    "\r\n",
    "*Note: If you are running this notbook from MyBinder.org you will need to enter your account Sid and auth token below as environment variables won't work*\r\n",
    "\r\n",
    "Once you have your account set up, it's time to purchase an SMS and voice enabled [Twilio number](https://www.twilio.com/console/phone-numbers/search).\r\n",
    "You can then add your Twilio number and your own mobile telephone number to the variables `twilioNumber` and `myNumber` respectively below.\r\n"
   ]
  },
  {
   "cell_type": "code",
   "execution_count": 2,
   "metadata": {},
   "outputs": [
    {
     "data": {
      "text/plain": "account sid: ACa3417e6a7ea786e5cb6267d3503a65d2"
     },
     "metadata": {
      "transient": {
       "display_id": "58d940f6-0ffa-4d68-b801-30bca162fd4f"
      }
     },
     "output_type": "display_data"
    }
   ],
   "source": [
    "var accountSid = Environment.GetEnvironmentVariable(\"ACCOUNT_SID\");\r\n",
    "var authToken = Environment.GetEnvironmentVariable(\"AUTH_TOKEN\");\r\n",
    "var twilioNumber = \"\";\r\n",
    "var myNumber = \"\";\r\n",
    "\r\n",
    "display(\"account sid: \" + accountSid);"
   ]
  },
  {
   "cell_type": "markdown",
   "metadata": {},
   "source": [
    "If you run the code above and succefully display your account Sid, you'll know that you have successfully set up your environment variables. If you don't see your account Sid, then you may need to reboot your computer."
   ]
  },
  {
   "cell_type": "markdown",
   "metadata": {},
   "source": [
    "## Send a message with Twilio\r\n",
    "\r\n",
    "The code below will send a text message to your mobile number from your new Twilio number. We have imported the Twilio NuGet package, initialised the Twilio client and finally, sent an SMS with the message `\"Ahoy from Jupyter!\"` using the `MessageResourse` method.\r\n",
    "\r\n",
    "Try updating the `body` value and send yourself something else!"
   ]
  },
  {
   "cell_type": "code",
   "execution_count": null,
   "metadata": {},
   "outputs": [],
   "source": [
    "#r \"nuget:twilio, 5.48.0\"\r\n",
    "using Twilio;\r\n",
    "using Twilio.Rest.Api.V2010.Account;\r\n",
    "using Twilio.Types;\r\n",
    "\r\n",
    "public class TwilioController\r\n",
    "{\r\n",
    "   \r\n",
    "    public string SendMessage()\r\n",
    "    {\r\n",
    "        TwilioClient.Init(accountSid, authToken);\r\n",
    "\r\n",
    "        var message =  MessageResource.Create(\r\n",
    "            from: new PhoneNumber(twilioNumber),\r\n",
    "            to: new PhoneNumber(myNumber),\r\n",
    "            body: \"Ahoy from Jupyter!\" );        \r\n",
    "       \r\n",
    "       return message.Sid;\r\n",
    "    }\r\n",
    "    \r\n",
    "\r\n",
    "}\r\n",
    "\r\n",
    "var controller = new TwilioController();\r\n",
    "\r\n",
    "var messageSid = controller.SendMessage();\r\n",
    "\r\n",
    "display(\"Message sid: \" + messageSid);\r\n"
   ]
  },
  {
   "cell_type": "markdown",
   "metadata": {},
   "source": [
    "## Make a voice call with Twilio\r\n",
    "\r\n",
    "The code to make a voice call is very similar to the code to send an SMS. We initialise the Twilio client in the same way, but this time we call the `CallResource` method.\r\n",
    "\r\n",
    "Note that we also need to convert our telephone numbers from type `string` to type `PhoneNumber`.\r\n",
    "\r\n",
    "This code uses the `url` parameter to inform Twilio what it should do when the call connects to user. Follow the [URL](http://demo.twilio.com/docs/voice.xml) to see what it returns.\r\n",
    "\r\n"
   ]
  },
  {
   "cell_type": "code",
   "execution_count": null,
   "metadata": {},
   "outputs": [],
   "source": [
    "#r \"nuget:twilio, 5.48.0\"\r\n",
    "using Twilio;\r\n",
    "using Twilio.Rest.Api.V2010.Account;\r\n",
    "using Twilio.Types;\r\n",
    "\r\n",
    "public class TwilioController\r\n",
    "{\r\n",
    "\r\n",
    "    public string MakeCall()\r\n",
    "    {\r\n",
    "        TwilioClient.Init(accountSid, authToken);\r\n",
    "\r\n",
    "\r\n",
    "        var call = CallResource.Create(\r\n",
    "            to: PhoneNumber(myNumber),\r\n",
    "            from: PhoneNumber(twilioNumber),\r\n",
    "            url: new Uri(\"http://demo.twilio.com/docs/voice.xml\"));\r\n",
    "       \r\n",
    "       return call.Sid.ToString();\r\n",
    "    }    \r\n",
    "\r\n",
    "}\r\n",
    "var controller = new TwilioController();\r\n",
    "\r\n",
    "var callSid = controller.MakeCall();\r\n",
    "\r\n",
    "display(\"Call sid: \" + callSid);\r\n"
   ]
  },
  {
   "cell_type": "markdown",
   "metadata": {},
   "source": [
    "We can also use [TwiML](https://www.twilio.com/docs/voice/twiml) to tell Twilio what to do. In this case we would use the `twiml` parameter instead of the `url`.\r\n",
    "Try updating the method above with the following TwiML."
   ]
  },
  {
   "cell_type": "code",
   "execution_count": null,
   "metadata": {},
   "outputs": [],
   "source": [
    "var call = CallResource.Create(            \r\n",
    "            to: PhoneNumber(myNumber),\r\n",
    "            from: PhoneNumber(twilioNumber),\r\n",
    "            twiml: Twiml(\"<Response><Say>Ahoy, World!</Say></Response>\");"
   ]
  }
 ],
 "metadata": {
  "kernelspec": {
   "display_name": ".NET (C#)",
   "language": "C#",
   "name": ".net-csharp"
  },
  "language_info": {
   "file_extension": ".cs",
   "mimetype": "text/x-csharp",
   "name": "C#",
   "pygments_lexer": "csharp",
   "version": "8.0"
  }
 },
 "nbformat": 4,
 "nbformat_minor": 4
}